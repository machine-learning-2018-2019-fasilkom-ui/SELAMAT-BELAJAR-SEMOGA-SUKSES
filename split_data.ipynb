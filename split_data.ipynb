{
 "cells": [
  {
   "cell_type": "code",
   "execution_count": 1,
   "metadata": {},
   "outputs": [],
   "source": [
    "import pandas as pd"
   ]
  },
  {
   "cell_type": "code",
   "execution_count": 12,
   "metadata": {},
   "outputs": [],
   "source": [
    "# load data\n",
    "df = pd.read_csv('data/cerpen.csv')\n",
    "df = df.sample(frac=1).reset_index(drop=True)"
   ]
  },
  {
   "cell_type": "code",
   "execution_count": 17,
   "metadata": {},
   "outputs": [],
   "source": [
    "train_df = df.iloc[:12861, :]\n",
    "cv_df = df.iloc[12861:17148, :]\n",
    "test_df = df.iloc[17148:, :]"
   ]
  },
  {
   "cell_type": "code",
   "execution_count": 19,
   "metadata": {},
   "outputs": [],
   "source": [
    "train_df.to_csv('data/cerpen-training.csv')\n",
    "cv_df.to_csv('data/cerpen-cross_validation.csv')\n",
    "test_df.to_csv('data/cerpen-test.csv')"
   ]
  },
  {
   "cell_type": "code",
   "execution_count": 22,
   "metadata": {},
   "outputs": [
    {
     "data": {
      "text/html": [
       "<div>\n",
       "<style scoped>\n",
       "    .dataframe tbody tr th:only-of-type {\n",
       "        vertical-align: middle;\n",
       "    }\n",
       "\n",
       "    .dataframe tbody tr th {\n",
       "        vertical-align: top;\n",
       "    }\n",
       "\n",
       "    .dataframe thead th {\n",
       "        text-align: right;\n",
       "    }\n",
       "</style>\n",
       "<table border=\"1\" class=\"dataframe\">\n",
       "  <thead>\n",
       "    <tr style=\"text-align: right;\">\n",
       "      <th></th>\n",
       "      <th>title</th>\n",
       "      <th>source</th>\n",
       "      <th>authors</th>\n",
       "      <th>categories</th>\n",
       "      <th>text</th>\n",
       "    </tr>\n",
       "  </thead>\n",
       "  <tbody>\n",
       "    <tr>\n",
       "      <th>0</th>\n",
       "      <td>Adios</td>\n",
       "      <td>http://cerpenmu.com/cerpen-perpisahan/adios.html</td>\n",
       "      <td>['Salman Reza Al-Fachrezy']</td>\n",
       "      <td>['Cerpen Pengalaman Pribadi', 'Cerpen Perpisah...</td>\n",
       "      <td>Lady, begitulah nama dia. \\r\\nDia adalah anak ...</td>\n",
       "    </tr>\n",
       "    <tr>\n",
       "      <th>1</th>\n",
       "      <td>My Love Story</td>\n",
       "      <td>http://cerpenmu.com/cerpen-cinta-segitiga/my-l...</td>\n",
       "      <td>['Sherly Milenia Islamiati']</td>\n",
       "      <td>['Cerpen Cinta Segitiga']</td>\n",
       "      <td>“anggap saja malam ini kita pacaran” kata kata...</td>\n",
       "    </tr>\n",
       "    <tr>\n",
       "      <th>2</th>\n",
       "      <td>Menunggu</td>\n",
       "      <td>http://cerpenmu.com/cerpen-cinta-dalam-hati-te...</td>\n",
       "      <td>['Yulia Nurhasanah']</td>\n",
       "      <td>['Cerpen Cinta Dalam Hati (Terpendam)']</td>\n",
       "      <td>Mengaguminya dalam diam, setiap detik hanya bi...</td>\n",
       "    </tr>\n",
       "    <tr>\n",
       "      <th>3</th>\n",
       "      <td>Zea dan Persahabatan</td>\n",
       "      <td>http://cerpenmu.com/cerpen-remaja/zea-dan-pers...</td>\n",
       "      <td>['Na']</td>\n",
       "      <td>['Cerpen Remaja']</td>\n",
       "      <td>Pagi ini Zidan bermaksud menyapa Zea. Sekaligu...</td>\n",
       "    </tr>\n",
       "    <tr>\n",
       "      <th>4</th>\n",
       "      <td>Hadiah Untuk Rysta</td>\n",
       "      <td>http://cerpenmu.com/cerpen-persahabatan/hadiah...</td>\n",
       "      <td>['Deshinta Maharani']</td>\n",
       "      <td>['Cerpen Anak', 'Cerpen Persahabatan']</td>\n",
       "      <td>Hai, namaku Shofieya Rika Alyanabila, temanku ...</td>\n",
       "    </tr>\n",
       "  </tbody>\n",
       "</table>\n",
       "</div>"
      ],
      "text/plain": [
       "                  title                                             source  \\\n",
       "0                 Adios   http://cerpenmu.com/cerpen-perpisahan/adios.html   \n",
       "1         My Love Story  http://cerpenmu.com/cerpen-cinta-segitiga/my-l...   \n",
       "2              Menunggu  http://cerpenmu.com/cerpen-cinta-dalam-hati-te...   \n",
       "3  Zea dan Persahabatan  http://cerpenmu.com/cerpen-remaja/zea-dan-pers...   \n",
       "4    Hadiah Untuk Rysta  http://cerpenmu.com/cerpen-persahabatan/hadiah...   \n",
       "\n",
       "                        authors  \\\n",
       "0   ['Salman Reza Al-Fachrezy']   \n",
       "1  ['Sherly Milenia Islamiati']   \n",
       "2          ['Yulia Nurhasanah']   \n",
       "3                        ['Na']   \n",
       "4         ['Deshinta Maharani']   \n",
       "\n",
       "                                          categories  \\\n",
       "0  ['Cerpen Pengalaman Pribadi', 'Cerpen Perpisah...   \n",
       "1                          ['Cerpen Cinta Segitiga']   \n",
       "2            ['Cerpen Cinta Dalam Hati (Terpendam)']   \n",
       "3                                  ['Cerpen Remaja']   \n",
       "4             ['Cerpen Anak', 'Cerpen Persahabatan']   \n",
       "\n",
       "                                                text  \n",
       "0  Lady, begitulah nama dia. \\r\\nDia adalah anak ...  \n",
       "1  “anggap saja malam ini kita pacaran” kata kata...  \n",
       "2  Mengaguminya dalam diam, setiap detik hanya bi...  \n",
       "3  Pagi ini Zidan bermaksud menyapa Zea. Sekaligu...  \n",
       "4  Hai, namaku Shofieya Rika Alyanabila, temanku ...  "
      ]
     },
     "execution_count": 22,
     "metadata": {},
     "output_type": "execute_result"
    }
   ],
   "source": []
  }
 ],
 "metadata": {
  "kernelspec": {
   "display_name": "Python 3",
   "language": "python",
   "name": "python3"
  },
  "language_info": {
   "codemirror_mode": {
    "name": "ipython",
    "version": 3
   },
   "file_extension": ".py",
   "mimetype": "text/x-python",
   "name": "python",
   "nbconvert_exporter": "python",
   "pygments_lexer": "ipython3",
   "version": "3.7.1"
  }
 },
 "nbformat": 4,
 "nbformat_minor": 2
}
