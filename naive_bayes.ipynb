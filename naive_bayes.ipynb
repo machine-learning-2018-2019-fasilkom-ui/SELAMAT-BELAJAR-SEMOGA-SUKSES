{
 "cells": [
  {
   "cell_type": "code",
   "execution_count": 51,
   "metadata": {},
   "outputs": [],
   "source": [
    "import pandas as pd\n",
    "import numpy as np\n",
    "import json\n",
    "import re"
   ]
  },
  {
   "cell_type": "code",
   "execution_count": 74,
   "metadata": {},
   "outputs": [],
   "source": [
    "class MNB_TextClassifier:\n",
    "    \n",
    "    def __init__(self):\n",
    "        self.prior = {}\n",
    "        self.condprob = {}\n",
    "    \n",
    "    # p(class=y | {term0=x[0], term1=x[1], ...} )\n",
    "    # please note that you dont add new data to vocabulary when predicting\n",
    "    def proba_y_given_x(self, y, x):\n",
    "        # YOUR CODE HERE\n",
    "        \n",
    "        proba_x_given_y = 1\n",
    "        for term in x:\n",
    "            if term not in self.condprob or y not in self.condprob[term]:\n",
    "                proba_x_given_y *= 1 / (self.condprob_denom[y] + len(self.vocabulary))\n",
    "            else:\n",
    "                proba_x_given_y *= self.condprob[term][y]\n",
    "        \n",
    "        result_numerator = proba_x_given_y * self.prior[y]\n",
    "        return result_numerator\n",
    "    \n",
    "    # p(c)\n",
    "    def proba_y(self, y):\n",
    "        return self.prior[y]\n",
    "\n",
    "    # update self.prior[class] as p(class=class) \n",
    "    # update self.condprob[term][class] as p(term=term | class=class)\n",
    "    def fit(self, X, y):\n",
    "        # YOUR CODE HERE\n",
    "        self.y_count = {}\n",
    "        num_of_ys = 0\n",
    "        for lst_y in y:\n",
    "            for y_i in lst_y:\n",
    "                self.y_count[y_i] = self.y_count.get(y_i, 0) + 1\n",
    "                self.prior[y_i] = self.prior.get(y_i, 0) + 1\n",
    "                num_of_ys += 1\n",
    "        \n",
    "        for y_val in self.prior:\n",
    "            self.prior[y_val] /= num_of_ys\n",
    "        \n",
    "        self.vocabulary = set(word for x in X for word in x)\n",
    "        # initialize values\n",
    "        for term in self.vocabulary:\n",
    "            for y_val in self.y_count.keys():\n",
    "                if term not in self.condprob:\n",
    "                    self.condprob[term] = {}\n",
    "                self.condprob[term][y_val] = 0\n",
    "        \n",
    "        self.condprob_denom = {} # for denominator\n",
    "        for x, lst_y in zip(X,y):\n",
    "            for y_i in lst_y:\n",
    "                for term in x:\n",
    "                    self.condprob[term][y_i] += 1 # intermediate value (numerator)\n",
    "                self.condprob_denom[y_i] = self.condprob_denom.get(y_i, 0) + len(x);\n",
    "        \n",
    "        # Final value for condprob\n",
    "        for term in self.vocabulary:\n",
    "            for y_val in self.y_count.keys():\n",
    "                self.condprob[term][y_val] = (self.condprob[term][y_val] + 1) / (self.condprob_denom[y_val] + len(self.vocabulary))\n",
    "        \n",
    "    def predict_single(self, x):\n",
    "        # YOUR CODE HERE\n",
    "        prob_max = 0\n",
    "        best_class = -1\n",
    "        for y_val in self.y_count:\n",
    "            prob = self.proba_y_given_x(y_val, x)\n",
    "            if prob > prob_max:\n",
    "                best_class = y_val\n",
    "                prob_max = prob\n",
    "        \n",
    "        return best_class\n",
    "        \n",
    "    def predict(self, X):\n",
    "        return [self.predict_single(x) for x in X]"
   ]
  },
  {
   "cell_type": "code",
   "execution_count": 3,
   "metadata": {},
   "outputs": [],
   "source": [
    "# load data\n",
    "train_df = pd.read_csv('data/cerpen-training.csv')\n",
    "cv_df = pd.read_csv('data/cerpen-cross_validation.csv')\n",
    "test_df = pd.read_csv('data/cerpen-test.csv')"
   ]
  },
  {
   "cell_type": "code",
   "execution_count": 5,
   "metadata": {},
   "outputs": [
    {
     "data": {
      "text/html": [
       "<div>\n",
       "<style scoped>\n",
       "    .dataframe tbody tr th:only-of-type {\n",
       "        vertical-align: middle;\n",
       "    }\n",
       "\n",
       "    .dataframe tbody tr th {\n",
       "        vertical-align: top;\n",
       "    }\n",
       "\n",
       "    .dataframe thead th {\n",
       "        text-align: right;\n",
       "    }\n",
       "</style>\n",
       "<table border=\"1\" class=\"dataframe\">\n",
       "  <thead>\n",
       "    <tr style=\"text-align: right;\">\n",
       "      <th></th>\n",
       "      <th>Unnamed: 0</th>\n",
       "      <th>title</th>\n",
       "      <th>source</th>\n",
       "      <th>authors</th>\n",
       "      <th>categories</th>\n",
       "      <th>text</th>\n",
       "    </tr>\n",
       "  </thead>\n",
       "  <tbody>\n",
       "    <tr>\n",
       "      <th>0</th>\n",
       "      <td>0</td>\n",
       "      <td>Adios</td>\n",
       "      <td>http://cerpenmu.com/cerpen-perpisahan/adios.html</td>\n",
       "      <td>['Salman Reza Al-Fachrezy']</td>\n",
       "      <td>['Cerpen Pengalaman Pribadi', 'Cerpen Perpisah...</td>\n",
       "      <td>Lady, begitulah nama dia. \\r\\r\\nDia adalah ana...</td>\n",
       "    </tr>\n",
       "    <tr>\n",
       "      <th>1</th>\n",
       "      <td>1</td>\n",
       "      <td>My Love Story</td>\n",
       "      <td>http://cerpenmu.com/cerpen-cinta-segitiga/my-l...</td>\n",
       "      <td>['Sherly Milenia Islamiati']</td>\n",
       "      <td>['Cerpen Cinta Segitiga']</td>\n",
       "      <td>“anggap saja malam ini kita pacaran” kata kata...</td>\n",
       "    </tr>\n",
       "    <tr>\n",
       "      <th>2</th>\n",
       "      <td>2</td>\n",
       "      <td>Menunggu</td>\n",
       "      <td>http://cerpenmu.com/cerpen-cinta-dalam-hati-te...</td>\n",
       "      <td>['Yulia Nurhasanah']</td>\n",
       "      <td>['Cerpen Cinta Dalam Hati (Terpendam)']</td>\n",
       "      <td>Mengaguminya dalam diam, setiap detik hanya bi...</td>\n",
       "    </tr>\n",
       "    <tr>\n",
       "      <th>3</th>\n",
       "      <td>3</td>\n",
       "      <td>Zea dan Persahabatan</td>\n",
       "      <td>http://cerpenmu.com/cerpen-remaja/zea-dan-pers...</td>\n",
       "      <td>['Na']</td>\n",
       "      <td>['Cerpen Remaja']</td>\n",
       "      <td>Pagi ini Zidan bermaksud menyapa Zea. Sekaligu...</td>\n",
       "    </tr>\n",
       "    <tr>\n",
       "      <th>4</th>\n",
       "      <td>4</td>\n",
       "      <td>Hadiah Untuk Rysta</td>\n",
       "      <td>http://cerpenmu.com/cerpen-persahabatan/hadiah...</td>\n",
       "      <td>['Deshinta Maharani']</td>\n",
       "      <td>['Cerpen Anak', 'Cerpen Persahabatan']</td>\n",
       "      <td>Hai, namaku Shofieya Rika Alyanabila, temanku ...</td>\n",
       "    </tr>\n",
       "  </tbody>\n",
       "</table>\n",
       "</div>"
      ],
      "text/plain": [
       "   Unnamed: 0                 title  \\\n",
       "0           0                 Adios   \n",
       "1           1         My Love Story   \n",
       "2           2              Menunggu   \n",
       "3           3  Zea dan Persahabatan   \n",
       "4           4    Hadiah Untuk Rysta   \n",
       "\n",
       "                                              source  \\\n",
       "0   http://cerpenmu.com/cerpen-perpisahan/adios.html   \n",
       "1  http://cerpenmu.com/cerpen-cinta-segitiga/my-l...   \n",
       "2  http://cerpenmu.com/cerpen-cinta-dalam-hati-te...   \n",
       "3  http://cerpenmu.com/cerpen-remaja/zea-dan-pers...   \n",
       "4  http://cerpenmu.com/cerpen-persahabatan/hadiah...   \n",
       "\n",
       "                        authors  \\\n",
       "0   ['Salman Reza Al-Fachrezy']   \n",
       "1  ['Sherly Milenia Islamiati']   \n",
       "2          ['Yulia Nurhasanah']   \n",
       "3                        ['Na']   \n",
       "4         ['Deshinta Maharani']   \n",
       "\n",
       "                                          categories  \\\n",
       "0  ['Cerpen Pengalaman Pribadi', 'Cerpen Perpisah...   \n",
       "1                          ['Cerpen Cinta Segitiga']   \n",
       "2            ['Cerpen Cinta Dalam Hati (Terpendam)']   \n",
       "3                                  ['Cerpen Remaja']   \n",
       "4             ['Cerpen Anak', 'Cerpen Persahabatan']   \n",
       "\n",
       "                                                text  \n",
       "0  Lady, begitulah nama dia. \\r\\r\\nDia adalah ana...  \n",
       "1  “anggap saja malam ini kita pacaran” kata kata...  \n",
       "2  Mengaguminya dalam diam, setiap detik hanya bi...  \n",
       "3  Pagi ini Zidan bermaksud menyapa Zea. Sekaligu...  \n",
       "4  Hai, namaku Shofieya Rika Alyanabila, temanku ...  "
      ]
     },
     "execution_count": 5,
     "metadata": {},
     "output_type": "execute_result"
    }
   ],
   "source": [
    "train_df.head()"
   ]
  },
  {
   "cell_type": "code",
   "execution_count": 72,
   "metadata": {},
   "outputs": [],
   "source": [
    "# given panda dataframe return X(examples) and Y(class)\n",
    "def data_to_examples(df):\n",
    "    X = []\n",
    "    y = []\n",
    "    for _, row in df.iterrows():\n",
    "        categories = json.loads(str(row['categories']).replace(\"\\'\", '\\\"'))\n",
    "        text = str(row['text']).lower()\n",
    "        text = re.sub('[^a-z]+', ' ', text)\n",
    "        x = text.split()\n",
    "        \n",
    "        X.append(x)\n",
    "        y.append(categories)\n",
    "    return np.array(X), np.array(y)"
   ]
  },
  {
   "cell_type": "code",
   "execution_count": 73,
   "metadata": {},
   "outputs": [],
   "source": [
    "# load training data to examples\n",
    "X, y = data_to_examples(train_df)"
   ]
  },
  {
   "cell_type": "code",
   "execution_count": 70,
   "metadata": {},
   "outputs": [],
   "source": [
    "def jaccard_similarity(A, B):\n",
    "    A_and_B = [elem for elem in A if value in B]\n",
    "    return len(A_and_B) / (len(A) + len(B) - len(A_and_B))"
   ]
  },
  {
   "cell_type": "code",
   "execution_count": 75,
   "metadata": {},
   "outputs": [],
   "source": [
    "# Train naive bayes\n",
    "mnb_clf = MNB_TextClassifier()\n",
    "mnb_clf.fit(X, y)"
   ]
  },
  {
   "cell_type": "code",
   "execution_count": 76,
   "metadata": {},
   "outputs": [
    {
     "name": "stdout",
     "output_type": "stream",
     "text": [
      "59\n"
     ]
    }
   ],
   "source": [
    "genres = set(genre for y_i in y for genre in y_i)"
   ]
  },
  {
   "cell_type": "code",
   "execution_count": 77,
   "metadata": {},
   "outputs": [],
   "source": [
    "# load cross validation data to examples\n",
    "X, y = data_to_examples(cv_df)"
   ]
  },
  {
   "cell_type": "code",
   "execution_count": null,
   "metadata": {},
   "outputs": [],
   "source": [
    "# find treshold\n",
    "\n",
    "tresholds = [0.5, 0.55, 0.6, 0.65, 0.7, 0.75, 0.8, 0.85, 0.9, 0.95]\n",
    "treshold = 0.5\n",
    "best_jaccard_similarity = 0\n",
    "for t in tresholds:\n",
    "    avg_jaccard = 0\n",
    "    for x, y_i in zip(X, y):\n",
    "        predicted_genres = []\n",
    "        for genre in genres:\n",
    "            if mnb_clf.proba_y_given_x(genre, x) > t:\n",
    "                predicted_genres.append(genre)\n",
    "        avg_jaccard += jaccard_similarity(predicted_genres, y_i)\n",
    "    avg_jaccard /= len(X)\n",
    "    if avg_jaccard > best_jaccard_similarity:\n",
    "        best_jaccard_similarity = avg_jaccard\n",
    "        treshold = t\n",
    "\n",
    "print(treshold, best_jaccard_similarity)"
   ]
  },
  {
   "cell_type": "code",
   "execution_count": null,
   "metadata": {},
   "outputs": [],
   "source": [
    "# load test data to examples\n",
    "X, y = data_to_examples(test_df)"
   ]
  },
  {
   "cell_type": "code",
   "execution_count": null,
   "metadata": {},
   "outputs": [],
   "source": [
    "avg_jaccard = 0\n",
    "for x, y_i in zip(X, y):\n",
    "    predicted_genres = []\n",
    "    for genre in genres:\n",
    "        if mnb_clf.proba_y_given_x(genre, x) > t:\n",
    "            predicted_genres.append(genre)\n",
    "    avg_jaccard += jaccard_similarity(predicted_genres, y_i)\n",
    "avg_jaccard /= len(X)\n",
    "print(\"Average jaccard similarity: \", avg_jaccard)"
   ]
  }
 ],
 "metadata": {
  "kernelspec": {
   "display_name": "Python 3",
   "language": "python",
   "name": "python3"
  },
  "language_info": {
   "codemirror_mode": {
    "name": "ipython",
    "version": 3
   },
   "file_extension": ".py",
   "mimetype": "text/x-python",
   "name": "python",
   "nbconvert_exporter": "python",
   "pygments_lexer": "ipython3",
   "version": "3.7.1"
  }
 },
 "nbformat": 4,
 "nbformat_minor": 2
}
