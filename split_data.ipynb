{
 "cells": [
  {
   "cell_type": "code",
   "execution_count": 18,
   "metadata": {},
   "outputs": [],
   "source": [
    "import pandas as pd\n",
    "import json\n",
    "import re\n",
    "import numpy as np\n",
    "from collections import defaultdict"
   ]
  },
  {
   "cell_type": "code",
   "execution_count": 2,
   "metadata": {},
   "outputs": [],
   "source": [
    "# load data\n",
    "df = pd.read_csv('data/cerpen.csv')\n",
    "df = df.sample(frac=1).reset_index(drop=True)"
   ]
  },
  {
   "cell_type": "code",
   "execution_count": 12,
   "metadata": {},
   "outputs": [],
   "source": [
    "def data_to_examples(df):\n",
    "    X = []\n",
    "    y = []\n",
    "    for idx, row in df.iterrows():\n",
    "        categories = json.loads(str(row['categories']).replace(\"\\'\", '\\\"'))\n",
    "        text = str(row['text']).lower()\n",
    "        text = re.sub('[^a-z]+', ' ', text)\n",
    "        x = text.split()\n",
    "\n",
    "        X.append(x)\n",
    "        y.append(categories)\n",
    "    return np.array(X), np.array(y)"
   ]
  },
  {
   "cell_type": "code",
   "execution_count": 26,
   "metadata": {},
   "outputs": [],
   "source": [
    "X, Y = data_to_examples(df)"
   ]
  },
  {
   "cell_type": "code",
   "execution_count": 27,
   "metadata": {},
   "outputs": [],
   "source": [
    "cat_freq = defaultdict(int)\n",
    "for categories in y:\n",
    "    for cat in categories:\n",
    "        cat_freq[cat] += 1"
   ]
  },
  {
   "cell_type": "code",
   "execution_count": 28,
   "metadata": {},
   "outputs": [
    {
     "data": {
      "text/plain": [
       "[('Cerpen Cinta', 3934),\n",
       " ('Cerpen Remaja', 3213),\n",
       " ('Cerpen Persahabatan', 2903),\n",
       " ('Cerpen Keluarga', 2707),\n",
       " ('Cerpen Cinta Sedih', 2151),\n",
       " ('Cerpen Anak', 2143),\n",
       " ('Cerpen Sedih', 2110),\n",
       " ('Cerpen Fantasi (Fiksi)', 1377),\n",
       " ('Cerpen Patah Hati', 1304),\n",
       " ('Cerpen Kehidupan', 1257),\n",
       " ('Cerpen Penyesalan', 1097)]"
      ]
     },
     "execution_count": 28,
     "metadata": {},
     "output_type": "execute_result"
    }
   ],
   "source": [
    "freq = list(cat_freq.items())\n",
    "freq.sort(key=lambda x: x[1], reverse=True)\n",
    "freq[:11]"
   ]
  },
  {
   "cell_type": "code",
   "execution_count": 38,
   "metadata": {},
   "outputs": [],
   "source": [
    "category_to_use = set(map(lambda x: x[0], freq[:10]))"
   ]
  },
  {
   "cell_type": "code",
   "execution_count": 46,
   "metadata": {},
   "outputs": [],
   "source": [
    "df.head()\n",
    "df['categories_cut'] = df['categories'].apply(lambda x: json.loads(str(x).replace(\"\\'\", '\\\"')))\n",
    "df['categories_cut'] = df['categories_cut'].apply(lambda l: [cat for cat in l if cat in category_to_use])"
   ]
  },
  {
   "cell_type": "code",
   "execution_count": 51,
   "metadata": {},
   "outputs": [],
   "source": [
    "new_df = df[df.astype('str').categories_cut != '[]'].drop('categories', axis=1).copy()"
   ]
  },
  {
   "cell_type": "code",
   "execution_count": 53,
   "metadata": {},
   "outputs": [
    {
     "data": {
      "text/plain": [
       "16766"
      ]
     },
     "execution_count": 53,
     "metadata": {},
     "output_type": "execute_result"
    }
   ],
   "source": [
    "print(len(new_df))"
   ]
  },
  {
   "cell_type": "code",
   "execution_count": 54,
   "metadata": {},
   "outputs": [
    {
     "data": {
      "text/html": [
       "<div>\n",
       "<style scoped>\n",
       "    .dataframe tbody tr th:only-of-type {\n",
       "        vertical-align: middle;\n",
       "    }\n",
       "\n",
       "    .dataframe tbody tr th {\n",
       "        vertical-align: top;\n",
       "    }\n",
       "\n",
       "    .dataframe thead th {\n",
       "        text-align: right;\n",
       "    }\n",
       "</style>\n",
       "<table border=\"1\" class=\"dataframe\">\n",
       "  <thead>\n",
       "    <tr style=\"text-align: right;\">\n",
       "      <th></th>\n",
       "      <th>title</th>\n",
       "      <th>source</th>\n",
       "      <th>authors</th>\n",
       "      <th>text</th>\n",
       "      <th>categories_cut</th>\n",
       "    </tr>\n",
       "  </thead>\n",
       "  <tbody>\n",
       "    <tr>\n",
       "      <th>0</th>\n",
       "      <td>Walaupun 1000 Tahun, Tak Masalah</td>\n",
       "      <td>http://cerpenmu.com/cerpen-horor-hantu/walaupu...</td>\n",
       "      <td>['DRE']</td>\n",
       "      <td>Ini merupakan kisah seorang wanita. Wanita yan...</td>\n",
       "      <td>[Cerpen Fantasi (Fiksi)]</td>\n",
       "    </tr>\n",
       "    <tr>\n",
       "      <th>1</th>\n",
       "      <td>Glasses Make Me Random</td>\n",
       "      <td>http://cerpenmu.com/cerpen-lucu-humor/glasses-...</td>\n",
       "      <td>['Rizki Annisa']</td>\n",
       "      <td>Galau! Gila! Kemana kacamata gue. Masa iya mej...</td>\n",
       "      <td>[Cerpen Remaja]</td>\n",
       "    </tr>\n",
       "    <tr>\n",
       "      <th>2</th>\n",
       "      <td>Cinta Setengah Sadar</td>\n",
       "      <td>http://cerpenmu.com/cerpen-cinta-romantis/cint...</td>\n",
       "      <td>['Fadhila Nur Indah Sari']</td>\n",
       "      <td>Aku termenung menyaksikan jutaan rintik hujan ...</td>\n",
       "      <td>[Cerpen Remaja]</td>\n",
       "    </tr>\n",
       "    <tr>\n",
       "      <th>3</th>\n",
       "      <td>Cinta di Malam Tahun Baru</td>\n",
       "      <td>http://cerpenmu.com/cerpen-cinta/cinta-di-mala...</td>\n",
       "      <td>['Aelyta']</td>\n",
       "      <td>“Tahun baru dimana rin?” Tiba tiba suara terde...</td>\n",
       "      <td>[Cerpen Cinta]</td>\n",
       "    </tr>\n",
       "    <tr>\n",
       "      <th>7</th>\n",
       "      <td>Sorry, My BFF</td>\n",
       "      <td>http://cerpenmu.com/cerpen-sedih/sorry-my-bff....</td>\n",
       "      <td>['Callula Zia Aqila']</td>\n",
       "      <td>“Daniyyah!! Ayo siap siap berangkat sekolah na...</td>\n",
       "      <td>[Cerpen Anak, Cerpen Persahabatan, Cerpen Sedih]</td>\n",
       "    </tr>\n",
       "  </tbody>\n",
       "</table>\n",
       "</div>"
      ],
      "text/plain": [
       "                              title  \\\n",
       "0  Walaupun 1000 Tahun, Tak Masalah   \n",
       "1            Glasses Make Me Random   \n",
       "2              Cinta Setengah Sadar   \n",
       "3         Cinta di Malam Tahun Baru   \n",
       "7                     Sorry, My BFF   \n",
       "\n",
       "                                              source  \\\n",
       "0  http://cerpenmu.com/cerpen-horor-hantu/walaupu...   \n",
       "1  http://cerpenmu.com/cerpen-lucu-humor/glasses-...   \n",
       "2  http://cerpenmu.com/cerpen-cinta-romantis/cint...   \n",
       "3  http://cerpenmu.com/cerpen-cinta/cinta-di-mala...   \n",
       "7  http://cerpenmu.com/cerpen-sedih/sorry-my-bff....   \n",
       "\n",
       "                      authors  \\\n",
       "0                     ['DRE']   \n",
       "1            ['Rizki Annisa']   \n",
       "2  ['Fadhila Nur Indah Sari']   \n",
       "3                  ['Aelyta']   \n",
       "7       ['Callula Zia Aqila']   \n",
       "\n",
       "                                                text  \\\n",
       "0  Ini merupakan kisah seorang wanita. Wanita yan...   \n",
       "1  Galau! Gila! Kemana kacamata gue. Masa iya mej...   \n",
       "2  Aku termenung menyaksikan jutaan rintik hujan ...   \n",
       "3  “Tahun baru dimana rin?” Tiba tiba suara terde...   \n",
       "7  “Daniyyah!! Ayo siap siap berangkat sekolah na...   \n",
       "\n",
       "                                     categories_cut  \n",
       "0                          [Cerpen Fantasi (Fiksi)]  \n",
       "1                                   [Cerpen Remaja]  \n",
       "2                                   [Cerpen Remaja]  \n",
       "3                                    [Cerpen Cinta]  \n",
       "7  [Cerpen Anak, Cerpen Persahabatan, Cerpen Sedih]  "
      ]
     },
     "execution_count": 54,
     "metadata": {},
     "output_type": "execute_result"
    }
   ],
   "source": [
    "new_df.head()"
   ]
  },
  {
   "cell_type": "code",
   "execution_count": 70,
   "metadata": {},
   "outputs": [],
   "source": [
    "from sklearn.model_selection import train_test_split\n",
    "train_df, test_df = train_test_split(new_df, test_size=0.3, random_state=322)"
   ]
  },
  {
   "cell_type": "code",
   "execution_count": 71,
   "metadata": {},
   "outputs": [],
   "source": [
    "train_df = train_df.reset_index().drop('index', axis=1)\n",
    "test_df = test_df.reset_index().drop('index', axis=1)"
   ]
  },
  {
   "cell_type": "code",
   "execution_count": 74,
   "metadata": {},
   "outputs": [],
   "source": [
    "train_df.to_csv('data/cerpen-training.csv')\n",
    "test_df.to_csv('data/cerpen-test.csv')"
   ]
  },
  {
   "cell_type": "code",
   "execution_count": 22,
   "metadata": {},
   "outputs": [
    {
     "data": {
      "text/html": [
       "<div>\n",
       "<style scoped>\n",
       "    .dataframe tbody tr th:only-of-type {\n",
       "        vertical-align: middle;\n",
       "    }\n",
       "\n",
       "    .dataframe tbody tr th {\n",
       "        vertical-align: top;\n",
       "    }\n",
       "\n",
       "    .dataframe thead th {\n",
       "        text-align: right;\n",
       "    }\n",
       "</style>\n",
       "<table border=\"1\" class=\"dataframe\">\n",
       "  <thead>\n",
       "    <tr style=\"text-align: right;\">\n",
       "      <th></th>\n",
       "      <th>title</th>\n",
       "      <th>source</th>\n",
       "      <th>authors</th>\n",
       "      <th>categories</th>\n",
       "      <th>text</th>\n",
       "    </tr>\n",
       "  </thead>\n",
       "  <tbody>\n",
       "    <tr>\n",
       "      <th>0</th>\n",
       "      <td>Adios</td>\n",
       "      <td>http://cerpenmu.com/cerpen-perpisahan/adios.html</td>\n",
       "      <td>['Salman Reza Al-Fachrezy']</td>\n",
       "      <td>['Cerpen Pengalaman Pribadi', 'Cerpen Perpisah...</td>\n",
       "      <td>Lady, begitulah nama dia. \\r\\nDia adalah anak ...</td>\n",
       "    </tr>\n",
       "    <tr>\n",
       "      <th>1</th>\n",
       "      <td>My Love Story</td>\n",
       "      <td>http://cerpenmu.com/cerpen-cinta-segitiga/my-l...</td>\n",
       "      <td>['Sherly Milenia Islamiati']</td>\n",
       "      <td>['Cerpen Cinta Segitiga']</td>\n",
       "      <td>“anggap saja malam ini kita pacaran” kata kata...</td>\n",
       "    </tr>\n",
       "    <tr>\n",
       "      <th>2</th>\n",
       "      <td>Menunggu</td>\n",
       "      <td>http://cerpenmu.com/cerpen-cinta-dalam-hati-te...</td>\n",
       "      <td>['Yulia Nurhasanah']</td>\n",
       "      <td>['Cerpen Cinta Dalam Hati (Terpendam)']</td>\n",
       "      <td>Mengaguminya dalam diam, setiap detik hanya bi...</td>\n",
       "    </tr>\n",
       "    <tr>\n",
       "      <th>3</th>\n",
       "      <td>Zea dan Persahabatan</td>\n",
       "      <td>http://cerpenmu.com/cerpen-remaja/zea-dan-pers...</td>\n",
       "      <td>['Na']</td>\n",
       "      <td>['Cerpen Remaja']</td>\n",
       "      <td>Pagi ini Zidan bermaksud menyapa Zea. Sekaligu...</td>\n",
       "    </tr>\n",
       "    <tr>\n",
       "      <th>4</th>\n",
       "      <td>Hadiah Untuk Rysta</td>\n",
       "      <td>http://cerpenmu.com/cerpen-persahabatan/hadiah...</td>\n",
       "      <td>['Deshinta Maharani']</td>\n",
       "      <td>['Cerpen Anak', 'Cerpen Persahabatan']</td>\n",
       "      <td>Hai, namaku Shofieya Rika Alyanabila, temanku ...</td>\n",
       "    </tr>\n",
       "  </tbody>\n",
       "</table>\n",
       "</div>"
      ],
      "text/plain": [
       "                  title                                             source  \\\n",
       "0                 Adios   http://cerpenmu.com/cerpen-perpisahan/adios.html   \n",
       "1         My Love Story  http://cerpenmu.com/cerpen-cinta-segitiga/my-l...   \n",
       "2              Menunggu  http://cerpenmu.com/cerpen-cinta-dalam-hati-te...   \n",
       "3  Zea dan Persahabatan  http://cerpenmu.com/cerpen-remaja/zea-dan-pers...   \n",
       "4    Hadiah Untuk Rysta  http://cerpenmu.com/cerpen-persahabatan/hadiah...   \n",
       "\n",
       "                        authors  \\\n",
       "0   ['Salman Reza Al-Fachrezy']   \n",
       "1  ['Sherly Milenia Islamiati']   \n",
       "2          ['Yulia Nurhasanah']   \n",
       "3                        ['Na']   \n",
       "4         ['Deshinta Maharani']   \n",
       "\n",
       "                                          categories  \\\n",
       "0  ['Cerpen Pengalaman Pribadi', 'Cerpen Perpisah...   \n",
       "1                          ['Cerpen Cinta Segitiga']   \n",
       "2            ['Cerpen Cinta Dalam Hati (Terpendam)']   \n",
       "3                                  ['Cerpen Remaja']   \n",
       "4             ['Cerpen Anak', 'Cerpen Persahabatan']   \n",
       "\n",
       "                                                text  \n",
       "0  Lady, begitulah nama dia. \\r\\nDia adalah anak ...  \n",
       "1  “anggap saja malam ini kita pacaran” kata kata...  \n",
       "2  Mengaguminya dalam diam, setiap detik hanya bi...  \n",
       "3  Pagi ini Zidan bermaksud menyapa Zea. Sekaligu...  \n",
       "4  Hai, namaku Shofieya Rika Alyanabila, temanku ...  "
      ]
     },
     "execution_count": 22,
     "metadata": {},
     "output_type": "execute_result"
    }
   ],
   "source": []
  }
 ],
 "metadata": {
  "kernelspec": {
   "display_name": "Python 3",
   "language": "python",
   "name": "python3"
  },
  "language_info": {
   "codemirror_mode": {
    "name": "ipython",
    "version": 3
   },
   "file_extension": ".py",
   "mimetype": "text/x-python",
   "name": "python",
   "nbconvert_exporter": "python",
   "pygments_lexer": "ipython3",
   "version": "3.7.1"
  }
 },
 "nbformat": 4,
 "nbformat_minor": 2
}
